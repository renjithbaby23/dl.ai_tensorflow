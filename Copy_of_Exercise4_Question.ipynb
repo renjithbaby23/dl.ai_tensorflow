{
  "nbformat": 4,
  "nbformat_minor": 0,
  "metadata": {
    "colab": {
      "name": "Copy of Exercise4-Question.ipynb",
      "version": "0.3.2",
      "provenance": [],
      "include_colab_link": true
    },
    "kernelspec": {
      "name": "python3",
      "display_name": "Python 3"
    },
    "accelerator": "GPU"
  },
  "cells": [
    {
      "cell_type": "markdown",
      "metadata": {
        "id": "view-in-github",
        "colab_type": "text"
      },
      "source": [
        "<a href=\"https://colab.research.google.com/github/renjithbaby23/dl.ai_tensorflow/blob/master/Copy_of_Exercise4_Question.ipynb\" target=\"_parent\"><img src=\"https://colab.research.google.com/assets/colab-badge.svg\" alt=\"Open In Colab\"/></a>"
      ]
    },
    {
      "cell_type": "markdown",
      "metadata": {
        "id": "UncprnB0ymAE",
        "colab_type": "text"
      },
      "source": [
        "Below is code with a link to a happy or sad dataset which contains 80 images, 40 happy and 40 sad. \n",
        "Create a convolutional neural network that trains to 100% accuracy on these images,  which cancels training upon hitting training accuracy of >.999\n",
        "\n",
        "Hint -- it will work best with 3 convolutional layers."
      ]
    },
    {
      "cell_type": "code",
      "metadata": {
        "id": "7Vti6p3PxmpS",
        "colab_type": "code",
        "outputId": "03188e39-862c-422b-a485-b9f2aeb3e016",
        "colab": {
          "base_uri": "https://localhost:8080/",
          "height": 213
        }
      },
      "source": [
        "import tensorflow as tf\n",
        "import os\n",
        "import zipfile\n",
        "\n",
        "\n",
        "DESIRED_ACCURACY = 0.999\n",
        "\n",
        "!wget --no-check-certificate \\\n",
        "    \"https://storage.googleapis.com/laurencemoroney-blog.appspot.com/happy-or-sad.zip\" \\\n",
        "    -O \"/tmp/happy-or-sad.zip\"\n",
        "\n",
        "zip_ref = zipfile.ZipFile(\"/tmp/happy-or-sad.zip\", 'r')\n",
        "zip_ref.extractall(\"/tmp/h-or-s\")\n",
        "zip_ref.close()\n"
      ],
      "execution_count": 0,
      "outputs": [
        {
          "output_type": "stream",
          "text": [
            "--2019-07-14 19:53:38--  https://storage.googleapis.com/laurencemoroney-blog.appspot.com/happy-or-sad.zip\n",
            "Resolving storage.googleapis.com (storage.googleapis.com)... 108.177.111.128, 2607:f8b0:4001:c18::80\n",
            "Connecting to storage.googleapis.com (storage.googleapis.com)|108.177.111.128|:443... connected.\n",
            "HTTP request sent, awaiting response... 200 OK\n",
            "Length: 2670333 (2.5M) [application/zip]\n",
            "Saving to: ‘/tmp/happy-or-sad.zip’\n",
            "\n",
            "\r/tmp/happy-or-sad.z   0%[                    ]       0  --.-KB/s               \r/tmp/happy-or-sad.z 100%[===================>]   2.55M  --.-KB/s    in 0.01s   \n",
            "\n",
            "2019-07-14 19:53:38 (205 MB/s) - ‘/tmp/happy-or-sad.zip’ saved [2670333/2670333]\n",
            "\n"
          ],
          "name": "stdout"
        }
      ]
    },
    {
      "cell_type": "code",
      "metadata": {
        "id": "-csdSQ5qDP4-",
        "colab_type": "code",
        "colab": {}
      },
      "source": [
        "\n",
        "class myCallback(tf.keras.callbacks.Callback):\n",
        "  def on_epoch_end(self, epoch, logs={}):\n",
        "    print(\"*\"*20, logs)\n",
        "    if logs.get('acc')>=DESIRED_ACCURACY:\n",
        "      print(\"Reached 99.9% accuracy so cancelling training!\")\n",
        "      self.model.stop_training = True\n",
        "\n",
        "callbacks = myCallback()"
      ],
      "execution_count": 0,
      "outputs": []
    },
    {
      "cell_type": "code",
      "metadata": {
        "id": "6DLGbXXI1j_V",
        "colab_type": "code",
        "colab": {}
      },
      "source": [
        "# This Code Block should Define and Compile the Model\n",
        "model = tf.keras.models.Sequential([tf.keras.layers.Conv2D(16, (3,3), activation='relu', input_shape=(150, 150, 3)),\n",
        "                                    tf.keras.layers.MaxPool2D(2,2),\n",
        "                                    tf.keras.layers.Conv2D(32, (3,3), activation='relu'),\n",
        "                                    tf.keras.layers.MaxPool2D(2,2),\n",
        "                                    tf.keras.layers.Conv2D(64, (3,3), activation='relu'),\n",
        "                                    tf.keras.layers.MaxPool2D(2,2),\n",
        "                                    tf.keras.layers.Flatten(),\n",
        "                                    tf.keras.layers.Dense(128, activation='relu'),\n",
        "                                    tf.keras.layers.Dense(1, activation='sigmoid')\n",
        "])\n",
        "\n",
        "from tensorflow.keras.optimizers import RMSprop\n",
        "\n",
        "model.compile(optimizer=RMSprop(lr=0.0001), loss='binary_crossentropy', metrics=['accuracy'])"
      ],
      "execution_count": 0,
      "outputs": []
    },
    {
      "cell_type": "code",
      "metadata": {
        "id": "4Ap9fUJE1vVu",
        "colab_type": "code",
        "outputId": "d8d4fce7-8cf7-4b91-902b-ad1b982f5f59",
        "colab": {
          "base_uri": "https://localhost:8080/",
          "height": 35
        }
      },
      "source": [
        "# This code block should create an instance of an ImageDataGenerator called train_datagen \n",
        "# And a train_generator by calling train_datagen.flow_from_directory\n",
        "\n",
        "from tensorflow.keras.preprocessing.image import ImageDataGenerator\n",
        "\n",
        "train_datagen = ImageDataGenerator(rescale=1/255.)\n",
        "\n",
        "train_generator = train_datagen.flow_from_directory('/tmp/h-or-s',\n",
        "                                                    target_size=(150, 150), \n",
        "                                                    batch_size=16, \n",
        "                                                    class_mode='binary')\n",
        "\n",
        "# Expected output: 'Found 80 images belonging to 2 classes'"
      ],
      "execution_count": 0,
      "outputs": [
        {
          "output_type": "stream",
          "text": [
            "Found 80 images belonging to 2 classes.\n"
          ],
          "name": "stdout"
        }
      ]
    },
    {
      "cell_type": "code",
      "metadata": {
        "id": "48dLm13U1-Le",
        "colab_type": "code",
        "outputId": "537c8173-0a99-4b25-ee3c-ec6b06764458",
        "colab": {
          "base_uri": "https://localhost:8080/",
          "height": 965
        }
      },
      "source": [
        "# This code block should call model.fit_generator and train for\n",
        "# a number of epochs. \n",
        "history = model.fit_generator(train_generator, steps_per_epoch=4, epochs=20, callbacks=[callbacks])\n",
        "    \n",
        "# Expected output: \"Reached 99.9% accuracy so cancelling training!\"\""
      ],
      "execution_count": 0,
      "outputs": [
        {
          "output_type": "stream",
          "text": [
            "Epoch 1/20\n",
            "1/4 [======>.......................] - ETA: 1s - loss: 0.6973 - acc: 0.5000******************** {'loss': 0.6797690540552139, 'acc': 0.515625}\n",
            "4/4 [==============================] - 1s 168ms/step - loss: 0.6798 - acc: 0.5156\n",
            "Epoch 2/20\n",
            "2/4 [==============>...............] - ETA: 0s - loss: 0.6362 - acc: 0.6250******************** {'loss': 0.6131247282028198, 'acc': 0.703125}\n",
            "4/4 [==============================] - 0s 33ms/step - loss: 0.6131 - acc: 0.7031\n",
            "Epoch 3/20\n",
            "3/4 [=====================>........] - ETA: 0s - loss: 0.5576 - acc: 0.7917******************** {'loss': 0.565573662519455, 'acc': 0.765625}\n",
            "4/4 [==============================] - 0s 43ms/step - loss: 0.5656 - acc: 0.7656\n",
            "Epoch 4/20\n",
            "3/4 [=====================>........] - ETA: 0s - loss: 0.5175 - acc: 0.8958******************** {'loss': 0.5298171788454056, 'acc': 0.859375}\n",
            "4/4 [==============================] - 0s 43ms/step - loss: 0.5298 - acc: 0.8594\n",
            "Epoch 5/20\n",
            "3/4 [=====================>........] - ETA: 0s - loss: 0.4616 - acc: 0.8958******************** {'loss': 0.4539301246404648, 'acc': 0.921875}\n",
            "4/4 [==============================] - 0s 28ms/step - loss: 0.4539 - acc: 0.9219\n",
            "Epoch 6/20\n",
            "3/4 [=====================>........] - ETA: 0s - loss: 0.4198 - acc: 0.9792******************** {'loss': 0.4248579293489456, 'acc': 0.921875}\n",
            "4/4 [==============================] - 0s 42ms/step - loss: 0.4249 - acc: 0.9219\n",
            "Epoch 7/20\n",
            "2/4 [==============>...............] - ETA: 0s - loss: 0.3797 - acc: 0.9375******************** {'loss': 0.3747965171933174, 'acc': 0.921875}\n",
            "4/4 [==============================] - 0s 41ms/step - loss: 0.3748 - acc: 0.9219\n",
            "Epoch 8/20\n",
            "3/4 [=====================>........] - ETA: 0s - loss: 0.3841 - acc: 0.9583******************** {'loss': 0.36259692907333374, 'acc': 0.96875}\n",
            "4/4 [==============================] - 0s 44ms/step - loss: 0.3626 - acc: 0.9688\n",
            "Epoch 9/20\n",
            "3/4 [=====================>........] - ETA: 0s - loss: 0.3404 - acc: 0.9375******************** {'loss': 0.3353555351495743, 'acc': 0.921875}\n",
            "4/4 [==============================] - 0s 41ms/step - loss: 0.3354 - acc: 0.9219\n",
            "Epoch 10/20\n",
            "3/4 [=====================>........] - ETA: 0s - loss: 0.2991 - acc: 0.9792******************** {'loss': 0.27693337574601173, 'acc': 0.984375}\n",
            "4/4 [==============================] - 0s 31ms/step - loss: 0.2769 - acc: 0.9844\n",
            "Epoch 11/20\n",
            "3/4 [=====================>........] - ETA: 0s - loss: 0.2470 - acc: 0.9792******************** {'loss': 0.23800856620073318, 'acc': 0.984375}\n",
            "4/4 [==============================] - 0s 39ms/step - loss: 0.2380 - acc: 0.9844\n",
            "Epoch 12/20\n",
            "2/4 [==============>...............] - ETA: 0s - loss: 0.3241 - acc: 0.8750******************** {'loss': 0.28367992490530014, 'acc': 0.890625}\n",
            "4/4 [==============================] - 0s 43ms/step - loss: 0.2837 - acc: 0.8906\n",
            "Epoch 13/20\n",
            "3/4 [=====================>........] - ETA: 0s - loss: 0.2059 - acc: 0.9792******************** {'loss': 0.19625845924019814, 'acc': 0.984375}\n",
            "4/4 [==============================] - 0s 40ms/step - loss: 0.1963 - acc: 0.9844\n",
            "Epoch 14/20\n",
            "3/4 [=====================>........] - ETA: 0s - loss: 0.2023 - acc: 0.9583******************** {'loss': 0.18675189837813377, 'acc': 0.96875}\n",
            "4/4 [==============================] - 0s 42ms/step - loss: 0.1868 - acc: 0.9688\n",
            "Epoch 15/20\n",
            "3/4 [=====================>........] - ETA: 0s - loss: 0.2281 - acc: 0.9375******************** {'loss': 0.20721516013145447, 'acc': 0.953125}\n",
            "4/4 [==============================] - 0s 31ms/step - loss: 0.2072 - acc: 0.9531\n",
            "Epoch 16/20\n",
            "3/4 [=====================>........] - ETA: 0s - loss: 0.1544 - acc: 0.9792******************** {'loss': 0.17414079792797565, 'acc': 0.953125}\n",
            "4/4 [==============================] - 0s 40ms/step - loss: 0.1741 - acc: 0.9531\n",
            "Epoch 17/20\n",
            "2/4 [==============>...............] - ETA: 0s - loss: 0.1100 - acc: 1.0000******************** {'loss': 0.11895310878753662, 'acc': 1.0}\n",
            "Reached 99.9% accuracy so cancelling training!\n",
            "4/4 [==============================] - 0s 41ms/step - loss: 0.1190 - acc: 1.0000\n"
          ],
          "name": "stdout"
        }
      ]
    },
    {
      "cell_type": "code",
      "metadata": {
        "id": "AFI1X3ipCd5Q",
        "colab_type": "code",
        "colab": {}
      },
      "source": [
        ""
      ],
      "execution_count": 0,
      "outputs": []
    }
  ]
}